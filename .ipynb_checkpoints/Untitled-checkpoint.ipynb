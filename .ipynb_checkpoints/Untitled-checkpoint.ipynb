{
 "cells": [
  {
   "cell_type": "code",
   "execution_count": 1,
   "metadata": {
    "collapsed": true
   },
   "outputs": [],
   "source": [
    "import heapq\n",
    "class PriorityQueue:\n",
    "  \"\"\"\n",
    "    Implements a priority queue data structure. Each inserted item\n",
    "    has a priority associated with it and the client is usually interested\n",
    "    in quick retrieval of the lowest-priority item in the queue. This\n",
    "    data structure allows O(1) access to the lowest-priority item.\n",
    "    \n",
    "    Note that this PriorityQueue does not allow you to change the priority\n",
    "    of an item.  However, you may insert the same item multiple times with\n",
    "    different priorities.\n",
    "  \"\"\"  \n",
    "  def  __init__(self):  \n",
    "    self.heap = []\n",
    "    \n",
    "  def push(self, item, priority):\n",
    "      pair = (priority,item)\n",
    "      heapq.heappush(self.heap,pair)\n",
    "\n",
    "  def pop(self):\n",
    "      (priority,item) = heapq.heappop(self.heap)\n",
    "      return item\n",
    "  \n",
    "  def isEmpty(self):\n",
    "    return len(self.heap) == 0\n",
    "\n",
    "class PriorityQueueWithFunction(PriorityQueue):\n",
    "  \"\"\"\n",
    "  Implements a priority queue with the same push/pop signature of the\n",
    "  Queue and the Stack classes. This is designed for drop-in replacement for\n",
    "  those two classes. The caller has to provide a priority function, which\n",
    "  extracts each item's priority.\n",
    "  \"\"\"  \n",
    "  def  __init__(self, priorityFunction):\n",
    "    \"priorityFunction (item) -> priority\"\n",
    "    self.priorityFunction = priorityFunction      # store the priority function\n",
    "    PriorityQueue.__init__(self)        # super-class initializer\n",
    "    \n",
    "  def push(self, item):\n",
    "    \"Adds an item to the queue with priority from the priority function\"\n",
    "    PriorityQueue.push(self, item, self.priorityFunction(item))\n",
    "    \n",
    "\n",
    "def func(x):\n",
    "    return x[0]\n",
    "    \n"
   ]
  },
  {
   "cell_type": "code",
   "execution_count": null,
   "metadata": {
    "collapsed": true
   },
   "outputs": [],
   "source": []
  }
 ],
 "metadata": {
  "kernelspec": {
   "display_name": "Python 2",
   "language": "python",
   "name": "python2"
  },
  "language_info": {
   "codemirror_mode": {
    "name": "ipython",
    "version": 2
   },
   "file_extension": ".py",
   "mimetype": "text/x-python",
   "name": "python",
   "nbconvert_exporter": "python",
   "pygments_lexer": "ipython2",
   "version": "2.7.13"
  }
 },
 "nbformat": 4,
 "nbformat_minor": 2
}
